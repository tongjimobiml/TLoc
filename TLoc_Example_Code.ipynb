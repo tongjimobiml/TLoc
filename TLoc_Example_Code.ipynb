{
 "cells": [
  {
   "cell_type": "code",
   "execution_count": null,
   "metadata": {
    "collapsed": false
   },
   "outputs": [],
   "source": [
    "from numpy import *\n",
    "import numpy as np\n",
    "import pandas as pd\n",
    "import math as Math\n",
    "import seaborn as sns\n",
    "import matplotlib.pyplot as plt\n",
    "from sklearn.ensemble import RandomForestRegressor, RandomForestClassifier\n",
    "import util_tloc as utl\n",
    "reload(utl)"
   ]
  },
  {
   "cell_type": "code",
   "execution_count": null,
   "metadata": {
    "collapsed": false
   },
   "outputs": [],
   "source": [
    "data_2g=pd.read_csv(\"2g/data_2g.csv\")\n",
    "data_2g = data_2g.drop_duplicates(utl.col_name_new)\n",
    "train, label, rg = utl.make_rf_dataset(data_2g, utl.eng_para)\n",
    "data_2g = train\n",
    "from sklearn.cross_validation import train_test_split\n",
    "tr_feature_r, te_feature_r, tr_label_, te_label_ = train_test_split(train, label, test_size=0.2, random_state=30)"
   ]
  },
  {
   "cell_type": "markdown",
   "metadata": {},
   "source": [
    "## 按主基站进行分组，每一组为一个domain"
   ]
  },
  {
   "cell_type": "code",
   "execution_count": null,
   "metadata": {
    "collapsed": true
   },
   "outputs": [],
   "source": [
    "domains = tr_feature_r.groupby(['RNCID_1', 'CellID_1'])"
   ]
  },
  {
   "cell_type": "code",
   "execution_count": null,
   "metadata": {
    "collapsed": false
   },
   "outputs": [],
   "source": [
    "rss_domain, bs_relative_pos_domain, traj_domain = dict(), dict(), dict()"
   ]
  },
  {
   "cell_type": "code",
   "execution_count": null,
   "metadata": {
    "collapsed": true
   },
   "outputs": [],
   "source": [
    "domain_name = list()"
   ]
  },
  {
   "cell_type": "markdown",
   "metadata": {},
   "source": [
    "## 计算每个domain内训练数据的信号强度，基站列表，GPS轨迹"
   ]
  },
  {
   "cell_type": "code",
   "execution_count": null,
   "metadata": {
    "collapsed": false
   },
   "outputs": [],
   "source": [
    "for name, domain in domains:\n",
    "    domain_name.append(name)\n",
    "    for i in range(1, 7):\n",
    "        rss_domain[name, i] = utl.distribution(domain['Dbm_%d' % i])\n",
    "        if i > 1:\n",
    "            bs_relative_pos_domain[name, i] = utl.generate_bs_relative_list(domain, i)\n",
    "    traj_domain[name] = utl.generate_traj_domain_list(domain)\n",
    "            "
   ]
  },
  {
   "cell_type": "markdown",
   "metadata": {},
   "source": [
    "## 计算domain之间的MR distance"
   ]
  },
  {
   "cell_type": "code",
   "execution_count": null,
   "metadata": {
    "collapsed": true
   },
   "outputs": [],
   "source": [
    "mr_dis_mat = np.zeros((len(domain_name), len(domain_name)))"
   ]
  },
  {
   "cell_type": "code",
   "execution_count": null,
   "metadata": {
    "collapsed": false
   },
   "outputs": [],
   "source": [
    "i=0\n",
    "for d_idx, val in enumerate(domain_name):\n",
    "    for d_idx_sub, val_sub in enumerate(domain_name):\n",
    "        if d_idx != d_idx_sub:\n",
    "            mr_dis_mat[d_idx, d_idx_sub] = mr_dis_mat[d_idx_sub, d_idx] = utl.mr_rssi_dis(val, val_sub, \n",
    "                                                                                          rss_domain, bs_relative_pos_domain)\n",
    "            if i%100==0:\n",
    "                print i\n",
    "            i+=1"
   ]
  },
  {
   "cell_type": "code",
   "execution_count": null,
   "metadata": {
    "collapsed": false
   },
   "outputs": [],
   "source": [
    "mr_dis_mat"
   ]
  },
  {
   "cell_type": "markdown",
   "metadata": {},
   "source": [
    "## 计算domain之间的Position distance"
   ]
  },
  {
   "cell_type": "code",
   "execution_count": null,
   "metadata": {
    "collapsed": true
   },
   "outputs": [],
   "source": [
    "trj_dis_mat = np.zeros((len(domain_name), len(domain_name)))"
   ]
  },
  {
   "cell_type": "code",
   "execution_count": null,
   "metadata": {
    "collapsed": false
   },
   "outputs": [],
   "source": [
    "i=0\n",
    "for d_idx, val in enumerate(domain_name):\n",
    "    for d_idx_sub, val_sub in enumerate(domain_name):\n",
    "        if d_idx != d_idx_sub:\n",
    "            trj_dis_mat[d_idx, d_idx_sub] = utl.domain_traj_simi(val, val_sub, traj_domain)\n",
    "            if i%100==0:\n",
    "                print i\n",
    "            i+=1"
   ]
  },
  {
   "cell_type": "code",
   "execution_count": null,
   "metadata": {
    "collapsed": false
   },
   "outputs": [],
   "source": [
    "trj_dis_mat"
   ]
  },
  {
   "cell_type": "markdown",
   "metadata": {},
   "source": [
    "## 计算最终的domain distance"
   ]
  },
  {
   "cell_type": "code",
   "execution_count": null,
   "metadata": {
    "collapsed": false
   },
   "outputs": [],
   "source": [
    "from sklearn import preprocessing\n",
    "min_max_scaler = preprocessing.MinMaxScaler()\n",
    "trj_dis_mat_scale = min_max_scaler.fit_transform(trj_dis_mat)\n",
    "min_max_scaler1 = preprocessing.MinMaxScaler()\n",
    "mr_dis_mat_scale = min_max_scaler1.fit_transform(mr_dis_mat)\n",
    "\n",
    "domain_dis_mat = 0.5*mr_dis_mat_scale+ 0.5*trj_dis_mat_scale"
   ]
  },
  {
   "cell_type": "markdown",
   "metadata": {},
   "source": [
    "## 对每个domain内的测试数据进行定位"
   ]
  },
  {
   "cell_type": "code",
   "execution_count": null,
   "metadata": {
    "collapsed": false
   },
   "outputs": [],
   "source": [
    "i = 1\n",
    "error_tran = []\n",
    "for name, domain in domains:\n",
    "    domain_te = te_feature_r[(te_feature_r['RNCID_1'] == name[0]) & (te_feature_r['CellID_1'] == name[1])]\n",
    "    if domain_te.shape[0] >= 5:\n",
    "        non_error, raw_error_list = utl.non_transfer_train_on_each_domain(domain, domain_te)\n",
    "        \n",
    "        #当non-transfer的中位误差大于30米时，需要进行迁移学习\n",
    "        if non_error > 30:\n",
    "            domain_idx = domain_name.index(name)\n",
    "            # search source domains\n",
    "            source_list = utl.topk_query(list(domain_dis_mat[domain_idx]), 3, domain_name)\n",
    "            source_df, source_l = utl.perpare_source_df(tr_feature_r, source_list)\n",
    "            # structure transfer for random forest\n",
    "            trans_err, trans_err_list = utl.struct_transfer(domain, domain_te, source_df, source_l, rg)\n",
    "            if len(list(error_tran)) == 0:\n",
    "                error_tran = trans_err_list\n",
    "            else:\n",
    "                error_tran = np.hstack((error_tran, trans_err_list))\n",
    "            print i, non_error, trans_err\n",
    "            i += 1\n",
    "        else:\n",
    "            if len(list(error_tran)) == 0:\n",
    "                error_tran = raw_error_list\n",
    "            else:\n",
    "                error_tran = np.hstack((error_tran, raw_error_list))"
   ]
  },
  {
   "cell_type": "code",
   "execution_count": null,
   "metadata": {
    "collapsed": true
   },
   "outputs": [],
   "source": [
    "error_tran = sorted(error_tran)"
   ]
  },
  {
   "cell_type": "code",
   "execution_count": null,
   "metadata": {
    "collapsed": false
   },
   "outputs": [],
   "source": [
    "print \"After transfer mean error:\", np.mean(error_tran), \"median error:\", np.median(error_tran)"
   ]
  },
  {
   "cell_type": "code",
   "execution_count": null,
   "metadata": {
    "collapsed": false
   },
   "outputs": [],
   "source": [
    "est = RandomForestRegressor(n_jobs=-1, n_estimators = 50, max_features='sqrt').fit(tr_feature_r[utl.non_tran_f], tr_label_)\n",
    "pred = est.predict(te_feature_r[utl.non_tran_f].values)\n",
    "    \n",
    "error = [utl.distance(pt1, pt2) for pt1, pt2 in zip(pred, te_label_.values)]\n",
    "error = sorted(error)\n",
    "print \"No-transfer mean error:\", np.mean(error), \"median error:\", np.median(error)"
   ]
  },
  {
   "cell_type": "code",
   "execution_count": null,
   "metadata": {
    "collapsed": true
   },
   "outputs": [],
   "source": []
  }
 ],
 "metadata": {
  "anaconda-cloud": {},
  "kernelspec": {
   "display_name": "Python [conda root]",
   "language": "python",
   "name": "conda-root-py"
  },
  "language_info": {
   "codemirror_mode": {
    "name": "ipython",
    "version": 2
   },
   "file_extension": ".py",
   "mimetype": "text/x-python",
   "name": "python",
   "nbconvert_exporter": "python",
   "pygments_lexer": "ipython2",
   "version": "2.7.12"
  }
 },
 "nbformat": 4,
 "nbformat_minor": 1
}
